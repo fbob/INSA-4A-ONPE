{
 "cells": [
  {
   "cell_type": "markdown",
   "metadata": {
    "ein.tags": [
     "worksheet-0"
    ]
   },
   "source": [
    "# Vos premiers pas en Python\n",
    "## Ou petit guide de survie ..."
   ]
  },
  {
   "cell_type": "markdown",
   "metadata": {
    "ein.tags": [
     "worksheet-0"
    ]
   },
   "source": [
    "Un langage de programmation permet de décrire avec précision des opérations très simples sur des données. Comme tout langage, il a une grammaire et des mot-clés. \n",
    "> Un algorithme manipule des données (souvent numériques en calcul scientifique). Ces données ne sont pas connues au moment où on écrit l'algorithme. Les variables servent donc à nommer ces données afin de pouvoir écrire cet algorithme et les stocker en mémoire. \n",
    "\n",
    "La procédure de calcul s'articule souvent autour des étapes suivantes:\n",
    "\n",
    "* On écrit l'algorithme.\n",
    "* On affecte des valeurs aux variables.\n",
    "* On exécute l'algorithme de calcul pour obtenir la solution.\n",
    "\n",
    "Voyons cela quelques usages simples. Il vous suffit d'exécuter chaque petit extrait en appuyant sur le triangle pointant vers la droite dans la barre d'icone ci-dessus ou d'appuyer simultanément sur les touches Shift+Return. N'hésitez pas à modifier les extraits pour mieux comprendre ce que le programme fait."
   ]
  },
  {
   "cell_type": "markdown",
   "metadata": {},
   "source": [
    "# Les modules\n",
    "\n",
    "Les modules sont des extensions du langages comme les \"Toolboxes\" de Matlab. Python ne sait pas faire grand chose tout seul mais il bénéficie de nombreuses extensions disponibles sous la forme de ces modules. On distingue souvent les extensions présentes lors de l'installation du langage (comme par exemple le module [math](https://docs.python.org/3.4/library/math.html)) ou des extensions tierces qu'il faut installer (comme par exemple l'excellent [numpy](http://www.numpy.org/)).\n",
    "\n",
    "Pour utiliser une fonctionalité ou fonction d'un module, on utilise l'une des syntaxes suivantes :"
   ]
  },
  {
   "cell_type": "code",
   "execution_count": 57,
   "metadata": {},
   "outputs": [
    {
     "name": "stdout",
     "output_type": "stream",
     "text": [
      "0.540302305868\n",
      "-0.416146836547\n",
      "-0.9899924966\n"
     ]
    }
   ],
   "source": [
    "import math\n",
    "\n",
    "print (math.cos(1))\n",
    "\n",
    "from math import cos\n",
    "print (cos(2))\n",
    "\n",
    "from math import * # cette syntaxe est déconseillée car il est possible qu'une fonction\n",
    "print (cos(3))     # porte le même nom qu'une des vôtres"
   ]
  },
  {
   "cell_type": "markdown",
   "metadata": {},
   "source": [
    "# Les variables\n",
    "\n",
    "On programme sert souvent à automatiser un calcul comme le calcul mensuel du taux de chômage, le taux d'inflation, le temps qu'il fera demain... Pour pouvoir répéter ce même calcul sur des valeurs différentes, il faut pouvoir décrire ce calcul sans savoir ce que sont ces valeurs. \n",
    "\n",
    "Un moyen simple est de les nommer : on utilise des variables. Une variable désigne des données. i=3 signifie que la variable i contient 3. \n",
    "\n",
    "Il existe plusieurs types préféfinis de variables, vous trouverez quelques exemples ci-dessous:"
   ]
  },
  {
   "cell_type": "code",
   "execution_count": 1,
   "metadata": {},
   "outputs": [
    {
     "name": "stdout",
     "output_type": "stream",
     "text": [
      "(3, 3.3, 'exemple', None)\n"
     ]
    }
   ],
   "source": [
    "i = 3                    # entier = type numérique (type int)\n",
    "r = 3.3                  # réel   = type numérique (type float)\n",
    "s = \"exemple\"            # chaîne de caractères = type str (exemple n'est pas une variable)\n",
    "n = None                 # None signifie que la variable existe mais qu'elle ne contient rien\n",
    "                         # elle est souvent utilisée pour signifier qu'il n'y a pas de résultat\n",
    "                         # car... une erreur s'est produite, il n'y a pas de résultat\n",
    "                         # (racine carrée de -1 par exemple)\n",
    "            \n",
    "print(i,r,s,n)           # avec les notebooks, le dernier print n'est pas nécessaire, il suffit d'écrire\n",
    "                         # i,r,s,n"
   ]
  },
  {
   "cell_type": "markdown",
   "metadata": {},
   "source": [
    "# Affectations\n",
    "\n",
    "Lorsqu'on programme, on passe son temps à écrire des calculs à partir de variables pour les stocker dans d'autres variables voire dans les mêmes variables. Lorsqu'on écrit y=x+1, cela veut dire qu'on doit ajouter 1 à x et qu'on stocke le résultat dans y. Lorsqu'on écrit x += 5, cela veut dire qu'on doit ajouter 5 à x et qu'on n'a plus besoin de la valeur que x contenait avant l'opération."
   ]
  },
  {
   "cell_type": "code",
   "execution_count": 3,
   "metadata": {},
   "outputs": [
    {
     "name": "stdout",
     "output_type": "stream",
     "text": [
      "anything\n",
      "(5, 6)\n",
      "3\n",
      "7\n"
     ]
    }
   ],
   "source": [
    "v = \"anything\"       # affectation\n",
    "print(v)          # affichage\n",
    "\n",
    "v1, v2 = 5, 6        # double affectation\n",
    "print(v1,v2)\n",
    "\n",
    "x = 2\n",
    "y = x + 1\n",
    "print (y)\n",
    "\n",
    "x += 5              # x = x + 5\n",
    "print(x)"
   ]
  },
  {
   "cell_type": "markdown",
   "metadata": {},
   "source": [
    "# Mise en forme de l'affichage (`sortie`) avec `print`"
   ]
  },
  {
   "cell_type": "code",
   "execution_count": 7,
   "metadata": {},
   "outputs": [
    {
     "name": "stdout",
     "output_type": "stream",
     "text": [
      "Titi s'apelle TITI\n",
      "TITI love Gros minet\n",
      "addition de 4 et 5 donne : 4 + 5 = 9\n"
     ]
    }
   ],
   "source": [
    "titi = \"TITI\"\n",
    "gros_minet = \"Gros minet\"\n",
    "print(\"Titi s'apelle\",titi)\n",
    "print(titi + \" love \" + gros_minet)\n",
    "\n",
    "x = 4\n",
    "y = 5 \n",
    "s = \"addition\"\n",
    "print ( \"{3} de {0} et {1} donne : {0} + {1} = {2}\".format(x,y,x+y,s) )"
   ]
  },
  {
   "cell_type": "markdown",
   "metadata": {},
   "source": [
    "# Opérations arithmétiques"
   ]
  },
  {
   "cell_type": "code",
   "execution_count": 70,
   "metadata": {
    "autoscroll": "json-false",
    "ein.tags": [
     "worksheet-0"
    ]
   },
   "outputs": [
    {
     "name": "stdout",
     "output_type": "stream",
     "text": [
      "9765625\n",
      "0.5\n",
      "0.00036\n"
     ]
    }
   ],
   "source": [
    "x = 5\n",
    "y = 10\n",
    "\n",
    "z = x ** y\n",
    "print (z)    # affiche z\n",
    "\n",
    "z2 = 5.0/10\n",
    "print(z2)\n",
    "\n",
    "z3 = (1+z2**3)/(sqrt(z))\n",
    "print(z3)"
   ]
  },
  {
   "cell_type": "markdown",
   "metadata": {},
   "source": [
    "# Les boucles"
   ]
  },
  {
   "cell_type": "markdown",
   "metadata": {},
   "source": [
    "Les boucles permettent de répéter un nombre fini ou infini de fois les mêmes instructions. "
   ]
  },
  {
   "cell_type": "markdown",
   "metadata": {},
   "source": [
    "** Boucle `for` **"
   ]
  },
  {
   "cell_type": "code",
   "execution_count": 71,
   "metadata": {
    "autoscroll": "json-false",
    "ein.tags": [
     "worksheet-0"
    ]
   },
   "outputs": [
    {
     "name": "stdout",
     "output_type": "stream",
     "text": [
      "('La valeur initiale de a est: ', 0)\n",
      "('On ajoute ', 10)\n",
      "('On ajoute ', 1)\n",
      "('On ajoute ', 4)\n",
      "('La valeur finale de a est: ', 15)\n"
     ]
    }
   ],
   "source": [
    "a = 0\n",
    "print (\"La valeur initiale de a est: \", a) \n",
    "\n",
    "for i in [10, 1, 4]:\n",
    "    a = a + i\n",
    "    print(\"On ajoute \", i) # répète cette ligne\n",
    "print (\"La valeur finale de a est: \", a)   "
   ]
  },
  {
   "cell_type": "code",
   "execution_count": 72,
   "metadata": {},
   "outputs": [
    {
     "name": "stdout",
     "output_type": "stream",
     "text": [
      "('Dans la boucle', 0)\n",
      "('Dans la boucle', 1)\n",
      "('Dans la boucle', 2)\n",
      "('Dans la boucle', 3)\n",
      "('Dans la boucle', 4)\n",
      "('Dans la boucle', 5)\n",
      "('Dans la boucle', 6)\n",
      "('Dans la boucle', 7)\n",
      "('Dans la boucle', 8)\n",
      "('Dans la boucle', 9)\n",
      "('En dehors de la boucle', 9)\n"
     ]
    }
   ],
   "source": [
    "for i in range(0, 10) :   # on répète 10 fois\n",
    "    print (\"Dans la boucle\",i)     # l'affichage de i\n",
    "    # ici, on est dans la boucle\n",
    "\n",
    "# ici, on n'est plus dans la boucle\n",
    "print(\"En dehors de la boucle\",i)          # on ne passe par à 10"
   ]
  },
  {
   "cell_type": "markdown",
   "metadata": {},
   "source": [
    "**Boucle while :**"
   ]
  },
  {
   "cell_type": "code",
   "execution_count": 73,
   "metadata": {},
   "outputs": [
    {
     "name": "stdout",
     "output_type": "stream",
     "text": [
      "0\n",
      "1\n",
      "2\n",
      "3\n",
      "4\n",
      "5\n",
      "6\n",
      "7\n",
      "8\n",
      "9\n"
     ]
    }
   ],
   "source": [
    "i = 0\n",
    "while i < 10 :\n",
    "    print (i)\n",
    "    i = i +  1"
   ]
  },
  {
   "cell_type": "markdown",
   "metadata": {},
   "source": [
    "**Interrompre une boucle :**"
   ]
  },
  {
   "cell_type": "code",
   "execution_count": 74,
   "metadata": {},
   "outputs": [
    {
     "name": "stdout",
     "output_type": "stream",
     "text": [
      "0\n",
      "1\n",
      "3\n",
      "4\n",
      "5\n",
      "6\n"
     ]
    }
   ],
   "source": [
    "for i in range (0, 10) : \n",
    "    if i == 2 :\n",
    "        continue           # on passe directement au suivant\n",
    "    print (i)            \n",
    "    if i > 5 :\n",
    "        break              # interruption définitive"
   ]
  },
  {
   "cell_type": "markdown",
   "metadata": {
    "ein.tags": [
     "worksheet-0"
    ]
   },
   "source": [
    "# Les tests conditionnels\n",
    "Les tests permettent de faire un choix : selon la valeur d'une condition, on fait soit une séquence d'instructions soit une autre. \n",
    "\n",
    "## Variable de type *boolean*  `True` ou `False`"
   ]
  },
  {
   "cell_type": "code",
   "execution_count": 75,
   "metadata": {},
   "outputs": [
    {
     "data": {
      "text/plain": [
       "True"
      ]
     },
     "execution_count": 75,
     "metadata": {},
     "output_type": "execute_result"
    }
   ],
   "source": [
    "2 == 2"
   ]
  },
  {
   "cell_type": "code",
   "execution_count": 76,
   "metadata": {},
   "outputs": [
    {
     "data": {
      "text/plain": [
       "True"
      ]
     },
     "execution_count": 76,
     "metadata": {},
     "output_type": "execute_result"
    }
   ],
   "source": [
    "50 == 2*25"
   ]
  },
  {
   "cell_type": "code",
   "execution_count": 77,
   "metadata": {},
   "outputs": [
    {
     "data": {
      "text/plain": [
       "True"
      ]
     },
     "execution_count": 77,
     "metadata": {},
     "output_type": "execute_result"
    }
   ],
   "source": [
    "3 < 3.14159"
   ]
  },
  {
   "cell_type": "code",
   "execution_count": 78,
   "metadata": {},
   "outputs": [
    {
     "data": {
      "text/plain": [
       "True"
      ]
     },
     "execution_count": 78,
     "metadata": {},
     "output_type": "execute_result"
    }
   ],
   "source": [
    "1 == 1.0"
   ]
  },
  {
   "cell_type": "code",
   "execution_count": 79,
   "metadata": {},
   "outputs": [
    {
     "data": {
      "text/plain": [
       "True"
      ]
     },
     "execution_count": 79,
     "metadata": {},
     "output_type": "execute_result"
    }
   ],
   "source": [
    "1 != 0"
   ]
  },
  {
   "cell_type": "code",
   "execution_count": 80,
   "metadata": {},
   "outputs": [
    {
     "data": {
      "text/plain": [
       "True"
      ]
     },
     "execution_count": 80,
     "metadata": {},
     "output_type": "execute_result"
    }
   ],
   "source": [
    "1 <= 2"
   ]
  },
  {
   "cell_type": "code",
   "execution_count": 81,
   "metadata": {},
   "outputs": [
    {
     "data": {
      "text/plain": [
       "True"
      ]
     },
     "execution_count": 81,
     "metadata": {},
     "output_type": "execute_result"
    }
   ],
   "source": [
    "1 >= 1"
   ]
  },
  {
   "cell_type": "markdown",
   "metadata": {},
   "source": [
    "## Le test `if`"
   ]
  },
  {
   "cell_type": "code",
   "execution_count": 83,
   "metadata": {
    "autoscroll": "json-false",
    "ein.tags": [
     "worksheet-0"
    ]
   },
   "outputs": [
    {
     "name": "stdout",
     "output_type": "stream",
     "text": [
      "10\n"
     ]
    }
   ],
   "source": [
    "a = 10\n",
    "if a > 0 :\n",
    "      print(a)     # un seul des deux blocs est pris en considération"
   ]
  },
  {
   "cell_type": "markdown",
   "metadata": {},
   "source": [
    "## Le test `if ... else`"
   ]
  },
  {
   "cell_type": "code",
   "execution_count": 85,
   "metadata": {},
   "outputs": [
    {
     "name": "stdout",
     "output_type": "stream",
     "text": [
      "v n'est pas égal à 2\n"
     ]
    }
   ],
   "source": [
    "v = 3\n",
    "if v == 2 :\n",
    "    print (\"v est égal à 2\")\n",
    "else :\n",
    "    print (\"v n'est pas égal à 2\")"
   ]
  },
  {
   "cell_type": "markdown",
   "metadata": {},
   "source": [
    "**La clause ``else`` n'est obligatoire :**"
   ]
  },
  {
   "cell_type": "code",
   "execution_count": null,
   "metadata": {
    "collapsed": true
   },
   "outputs": [],
   "source": [
    "v = 2\n",
    "if v == 2 :\n",
    "    print (\"v est égal à 2\")"
   ]
  },
  {
   "cell_type": "markdown",
   "metadata": {},
   "source": [
    "## Plusieurs tests enchaînés : `if ... elif ... else`"
   ]
  },
  {
   "cell_type": "code",
   "execution_count": 88,
   "metadata": {},
   "outputs": [
    {
     "name": "stdout",
     "output_type": "stream",
     "text": [
      "v est inférieur à 2\n"
     ]
    }
   ],
   "source": [
    "v = 0\n",
    "if v == 2 :\n",
    "    print (\"v est égal à 2\")\n",
    "elif v > 2 :\n",
    "    print (\"v est supérieur strictement à 2\")\n",
    "else :\n",
    "    print (\"v est inférieur à 2\")"
   ]
  },
  {
   "cell_type": "markdown",
   "metadata": {
    "ein.tags": [
     "worksheet-0"
    ]
   },
   "source": [
    "# Les chaînes de caractères (type `str`)"
   ]
  },
  {
   "cell_type": "code",
   "execution_count": 91,
   "metadata": {
    "autoscroll": "json-false",
    "ein.tags": [
     "worksheet-0"
    ]
   },
   "outputs": [
    {
     "name": "stdout",
     "output_type": "stream",
     "text": [
      "10\n",
      "a\n",
      "c texte c\n"
     ]
    }
   ],
   "source": [
    "a = 10\n",
    "print(a)     # quelle est la différence\n",
    "print(\"a\")   # entre les deux lignes\n",
    "s = \"texte\"\n",
    "s = \"c\" + \" \" + s +\" \" + \"c\"\n",
    "print(s)"
   ]
  },
  {
   "cell_type": "markdown",
   "metadata": {
    "ein.tags": [
     "worksheet-0"
    ]
   },
   "source": [
    "Toute valeur a un type et cela détermine les opérations qu'on peut faire dessus. ``2 + 2`` fait ``4`` pour tout le monde. ``2 + \"2\"`` fait quatre pour un humain, mais est incompréhensible pour l'ordinateur car on ajoute deux choses différentes (``torchon + serviette``)."
   ]
  },
  {
   "cell_type": "code",
   "execution_count": 92,
   "metadata": {
    "autoscroll": "json-false",
    "ein.tags": [
     "worksheet-0"
    ]
   },
   "outputs": [
    {
     "name": "stdout",
     "output_type": "stream",
     "text": [
      "23\n",
      "5\n"
     ]
    }
   ],
   "source": [
    "print(\"2\" + \"3\")\n",
    "print(2+3)"
   ]
  },
  {
   "cell_type": "markdown",
   "metadata": {},
   "source": [
    "# Les fonctions\n",
    "\n",
    "Les fonctions sont des portions de programmes qui reproduisent les mêmes instructions. La fonction suivante calcule un polynôme de second degré $x^2+x-5$. \n",
    "\n",
    "A chaque fois qu'on appellera la fonction ``polynome``, elle fera le même calcul sur des ``x`` différents. Cela évite principalement d'avoir à recopier les mêmes lignes à chaque fois qu'on en a besoin."
   ]
  },
  {
   "cell_type": "code",
   "execution_count": 94,
   "metadata": {},
   "outputs": [
    {
     "data": {
      "text/plain": [
       "-3"
      ]
     },
     "execution_count": 94,
     "metadata": {},
     "output_type": "execute_result"
    }
   ],
   "source": [
    "def polynome( x=1 ) :\n",
    "    return x**2 + x - 5\n",
    "\n",
    "polynome()"
   ]
  },
  {
   "cell_type": "markdown",
   "metadata": {},
   "source": [
    "Une fonction commence toujours par ``def``. Entre parenthèses, ce sont les paramètres (ou entrées de la fonction). Ce qui suit le mot-clé ``return`` est le résultat de la fonction (ou sa sortie). Parmi les fonctions, il y a celles qui existent déjà et celles que vous écrivez. La fonction ``cos`` existe déjà : elle fait un calcul qu'il n'est pas besoin de réécrire. La fonction ``polynome`` décrite plus haut n'existait pas avant de l'avoir définie."
   ]
  },
  {
   "cell_type": "markdown",
   "metadata": {},
   "source": [
    "On peut appeler une fonction depuis une autre fonction. Une fonction peut prendre autant de paramètres que l'on veut à condition qu'ils aient des noms différents. On peut aussi leur associer une valeur par défaut :"
   ]
  },
  {
   "cell_type": "code",
   "execution_count": null,
   "metadata": {
    "collapsed": true
   },
   "outputs": [],
   "source": [
    "from math import log  # on importe une fonction existante\n",
    "def log_base ( x, base = 10 ) :\n",
    "    return log (x) / log(base)\n",
    "\n",
    "y = log_base (1000)      # identique à y = log_base (1000, 10)\n",
    "z = log_base (1000, 2)   # logarithme en base deux\n",
    "y,z"
   ]
  },
  {
   "cell_type": "markdown",
   "metadata": {},
   "source": [
    "# Numpy et Scipy\n",
    "\n",
    "[Numpy](http://numpy.org) contient des routines de base pour effectuer des opérations vectorielles, matricielles et algébriques linéaires rapides en Python. [Scipy](http://scipy) contient des routines supplémentaires pour l'optimisation, des fonctions spéciales, etc. Les deux contiennent des modules écrits en C et Fortran afin qu'ils soient aussi rapides que possible. Ensemble, ils donnent à Python à peu près la même capacité que le programme  [Matlab](http://www.mathworks.com/products/matlab/). En fait, si vous êtes un utilisateur expérimenté de Matlab, il existe un [guide to Numpy for Matlab users](http://www.scipy.org/NumPy_for_Matlab_Users)\n",
    "\n",
    "## Création de vecteurs et matrices\n",
    "\n",
    "La capacité de travailler avec des vecteurs et des matrices est fondamental à la fois à Numpy et Scipy. Vous pouvez créer des vecteurs à partir de listes à l'aide de la commande `array`:"
   ]
  },
  {
   "cell_type": "code",
   "execution_count": null,
   "metadata": {
    "collapsed": true
   },
   "outputs": [],
   "source": [
    "# On charge le module pylab. \n",
    "# L'environnement de travail pylab offre une syntaxe proche de Matlab et permet une prise en main rapide\n",
    "from pylab import * "
   ]
  },
  {
   "cell_type": "code",
   "execution_count": 52,
   "metadata": {},
   "outputs": [
    {
     "name": "stdout",
     "output_type": "stream",
     "text": [
      "[0 1 2 3 4 5]\n",
      "(6,)\n",
      "6\n",
      "0\n",
      "5\n",
      "[1 2 3]\n",
      "[0 2 4]\n",
      "[0 1 2 3 4 5]\n",
      "[5 4 3 2 1]\n",
      "5\n",
      "0\n",
      "2.5\n",
      "[2 3 4 5]\n",
      "[3 4 5]\n"
     ]
    }
   ],
   "source": [
    "# Vecteur v à 6 éléments\n",
    "v = array([0,1,2,3,4,5])\n",
    "\n",
    "print(v)       # On affiche le vecteur\n",
    "print(v.shape) # On affiche sa forme\n",
    "print(v.size) # On affiche sa taille\n",
    "\n",
    "print(v[0])    # On affiche le premier élement du tableau, l'indextation commence à 0\n",
    "print(v[-1])   # On affiche le dermier élement du tableau\n",
    "print(v[1:4])  # On affiche du 2ème au 4ème éléments, le 5ème n'est pas pris en compte\n",
    "print(v[0:-1:2]) # On affiche un élément sur 2\n",
    "print(v[:])    # On affiche tout le vecteur\n",
    "print(v[-1:0:-1]) # On renverse the vecteur\n",
    "\n",
    "\n",
    "print(max(v))  # On affiche le max de ses valeurs\n",
    "print(min(v))  # On affiche le min de ses valeurs\n",
    "print(mean(v)) # On affiche la moyenne de ses valeurs\n",
    "print(v[v>=2])  # On affiche que les éléments >= 2\n",
    "v[2] = 1.5\n",
    "print(v[v>=2])  # On affiche que les éléments >= 2\n"
   ]
  },
  {
   "cell_type": "code",
   "execution_count": 54,
   "metadata": {},
   "outputs": [
    {
     "name": "stdout",
     "output_type": "stream",
     "text": [
      "[[0 1 2 3]\n",
      " [4 5 6 7]]\n",
      "(2, 4)\n",
      "8\n",
      "[4 5 6 7]\n",
      "[1 5]\n",
      "[5 6 7]\n",
      "7\n",
      "5\n",
      "7\n",
      "8\n",
      "[[ 9 10 11 12]\n",
      " [ 4  5  8  7]]\n",
      "12\n"
     ]
    }
   ],
   "source": [
    "# Matrice A 2x4\n",
    "A = array([[0, 1, 2, 3],\n",
    "           [4, 5, 6, 7]])\n",
    "\n",
    "print(A)       # On affiche la matrice\n",
    "print(A.shape) # On affiche sa forme\n",
    "print(A.size)  # On affiche sa taille\n",
    "\n",
    "print(A[1,:])   # On affiche la 2ème ligne, toutes les colonnes\n",
    "print(A[:,1])   # On affiche la 2ème colonne, toutes les lignes\n",
    "print(A[1,1:4]) # On affiche du 2ème au 4ème éléments de la seconde ligne\n",
    "\n",
    "print(max(A[1,:]))  # On affiche le max de la deuxième ligne\n",
    "print(max(A[:,1]))  # On affiche le max de la deuxième colonne\n",
    "print(A.max())  # On affiche le max de la matrice\n",
    "\n",
    "A[1,2] = 8\n",
    "print(A.max())  # On affiche le max de la matrice\n",
    "A[0,:] = [9, 10, 11, 12] # On affecte la première ligne\n",
    "print(A)\n",
    "print(A.max())  # On affiche le max de la matrice"
   ]
  },
  {
   "cell_type": "markdown",
   "metadata": {},
   "source": [
    "### Vecteurs et matrices nuls\n",
    "\n",
    "Vous pouvez également former des matrices vides (zéro) de forme arbitraire (y compris les vecteurs, que Numpy traite comme des vecteurs avec une ligne), en utilisant la commande `zeros`:"
   ]
  },
  {
   "cell_type": "code",
   "execution_count": 26,
   "metadata": {},
   "outputs": [
    {
     "name": "stdout",
     "output_type": "stream",
     "text": [
      "[ 0.  0.  0.]\n"
     ]
    }
   ],
   "source": [
    "Nx = 3\n",
    "v = zeros(Nx)\n",
    "print(v)"
   ]
  },
  {
   "cell_type": "code",
   "execution_count": 27,
   "metadata": {},
   "outputs": [
    {
     "name": "stdout",
     "output_type": "stream",
     "text": [
      "[[ 0.  0.]\n",
      " [ 0.  0.]\n",
      " [ 0.  0.]]\n"
     ]
    }
   ],
   "source": [
    "Nx = 3\n",
    "Nt = 2\n",
    "c = zeros((Nx,Nt))\n",
    "print(c)"
   ]
  },
  {
   "cell_type": "markdown",
   "metadata": {},
   "source": [
    "### Distribution de valeurs avec `linspace` \n",
    "\n",
    "La commande `linspace` construit un tableau linéaire de points d'une valeur de départ à une valeur de fin avec un nombre spécifique de points."
   ]
  },
  {
   "cell_type": "code",
   "execution_count": 28,
   "metadata": {},
   "outputs": [
    {
     "name": "stdout",
     "output_type": "stream",
     "text": [
      "[ 0.    0.25  0.5   0.75  1.  ]\n"
     ]
    }
   ],
   "source": [
    "start     = 0\n",
    "stop      = 1\n",
    "nb_points = 5\n",
    "\n",
    "x = linspace(start,stop,nb_points)\n",
    "print(x)"
   ]
  },
  {
   "cell_type": "markdown",
   "metadata": {},
   "source": [
    "### Distribution de valeurs avec `arange` \n",
    "\n",
    "La commande `arange` construit un tableau linéaire de points d'une valeur de départ à une valeur de fin avec un pas spécifique."
   ]
  },
  {
   "cell_type": "code",
   "execution_count": 29,
   "metadata": {},
   "outputs": [
    {
     "name": "stdout",
     "output_type": "stream",
     "text": [
      "[ 0.    0.25  0.5   0.75]\n"
     ]
    }
   ],
   "source": [
    "start = 0\n",
    "stop  = 1\n",
    "step  = 0.25\n",
    "\n",
    "x = arange(start,stop,step)\n",
    "print(x)"
   ]
  },
  {
   "cell_type": "markdown",
   "metadata": {},
   "source": [
    "**Que remarquez-vous ?**"
   ]
  },
  {
   "cell_type": "markdown",
   "metadata": {},
   "source": [
    "# Figures avec Matplotlib"
   ]
  },
  {
   "cell_type": "code",
   "execution_count": null,
   "metadata": {
    "collapsed": true
   },
   "outputs": [],
   "source": [
    "# L'environnement de travail pylab offre une syntaxe proche de Matlab et permet une prise en main rapide\n",
    "# nbagg est une option permet d'avoir des graphiques interactifs dans le notebook\n",
    "%pylab nbagg"
   ]
  },
  {
   "cell_type": "code",
   "execution_count": 100,
   "metadata": {
    "collapsed": true
   },
   "outputs": [],
   "source": [
    "start     = 0\n",
    "stop      = 2*pi\n",
    "nb_points = 25\n",
    "x = linspace(start,stop,nb_points)"
   ]
  },
  {
   "cell_type": "code",
   "execution_count": 103,
   "metadata": {},
   "outputs": [
    {
     "data": {
      "application/javascript": [
       "/* Put everything inside the global mpl namespace */\n",
       "window.mpl = {};\n",
       "\n",
       "mpl.get_websocket_type = function() {\n",
       "    if (typeof(WebSocket) !== 'undefined') {\n",
       "        return WebSocket;\n",
       "    } else if (typeof(MozWebSocket) !== 'undefined') {\n",
       "        return MozWebSocket;\n",
       "    } else {\n",
       "        alert('Your browser does not have WebSocket support.' +\n",
       "              'Please try Chrome, Safari or Firefox ≥ 6. ' +\n",
       "              'Firefox 4 and 5 are also supported but you ' +\n",
       "              'have to enable WebSockets in about:config.');\n",
       "    };\n",
       "}\n",
       "\n",
       "mpl.figure = function(figure_id, websocket, ondownload, parent_element) {\n",
       "    this.id = figure_id;\n",
       "\n",
       "    this.ws = websocket;\n",
       "\n",
       "    this.supports_binary = (this.ws.binaryType != undefined);\n",
       "\n",
       "    if (!this.supports_binary) {\n",
       "        var warnings = document.getElementById(\"mpl-warnings\");\n",
       "        if (warnings) {\n",
       "            warnings.style.display = 'block';\n",
       "            warnings.textContent = (\n",
       "                \"This browser does not support binary websocket messages. \" +\n",
       "                    \"Performance may be slow.\");\n",
       "        }\n",
       "    }\n",
       "\n",
       "    this.imageObj = new Image();\n",
       "\n",
       "    this.context = undefined;\n",
       "    this.message = undefined;\n",
       "    this.canvas = undefined;\n",
       "    this.rubberband_canvas = undefined;\n",
       "    this.rubberband_context = undefined;\n",
       "    this.format_dropdown = undefined;\n",
       "\n",
       "    this.image_mode = 'full';\n",
       "\n",
       "    this.root = $('<div/>');\n",
       "    this._root_extra_style(this.root)\n",
       "    this.root.attr('style', 'display: inline-block');\n",
       "\n",
       "    $(parent_element).append(this.root);\n",
       "\n",
       "    this._init_header(this);\n",
       "    this._init_canvas(this);\n",
       "    this._init_toolbar(this);\n",
       "\n",
       "    var fig = this;\n",
       "\n",
       "    this.waiting = false;\n",
       "\n",
       "    this.ws.onopen =  function () {\n",
       "            fig.send_message(\"supports_binary\", {value: fig.supports_binary});\n",
       "            fig.send_message(\"send_image_mode\", {});\n",
       "            fig.send_message(\"refresh\", {});\n",
       "        }\n",
       "\n",
       "    this.imageObj.onload = function() {\n",
       "            if (fig.image_mode == 'full') {\n",
       "                // Full images could contain transparency (where diff images\n",
       "                // almost always do), so we need to clear the canvas so that\n",
       "                // there is no ghosting.\n",
       "                fig.context.clearRect(0, 0, fig.canvas.width, fig.canvas.height);\n",
       "            }\n",
       "            fig.context.drawImage(fig.imageObj, 0, 0);\n",
       "        };\n",
       "\n",
       "    this.imageObj.onunload = function() {\n",
       "        this.ws.close();\n",
       "    }\n",
       "\n",
       "    this.ws.onmessage = this._make_on_message_function(this);\n",
       "\n",
       "    this.ondownload = ondownload;\n",
       "}\n",
       "\n",
       "mpl.figure.prototype._init_header = function() {\n",
       "    var titlebar = $(\n",
       "        '<div class=\"ui-dialog-titlebar ui-widget-header ui-corner-all ' +\n",
       "        'ui-helper-clearfix\"/>');\n",
       "    var titletext = $(\n",
       "        '<div class=\"ui-dialog-title\" style=\"width: 100%; ' +\n",
       "        'text-align: center; padding: 3px;\"/>');\n",
       "    titlebar.append(titletext)\n",
       "    this.root.append(titlebar);\n",
       "    this.header = titletext[0];\n",
       "}\n",
       "\n",
       "\n",
       "\n",
       "mpl.figure.prototype._canvas_extra_style = function(canvas_div) {\n",
       "\n",
       "}\n",
       "\n",
       "\n",
       "mpl.figure.prototype._root_extra_style = function(canvas_div) {\n",
       "\n",
       "}\n",
       "\n",
       "mpl.figure.prototype._init_canvas = function() {\n",
       "    var fig = this;\n",
       "\n",
       "    var canvas_div = $('<div/>');\n",
       "\n",
       "    canvas_div.attr('style', 'position: relative; clear: both; outline: 0');\n",
       "\n",
       "    function canvas_keyboard_event(event) {\n",
       "        return fig.key_event(event, event['data']);\n",
       "    }\n",
       "\n",
       "    canvas_div.keydown('key_press', canvas_keyboard_event);\n",
       "    canvas_div.keyup('key_release', canvas_keyboard_event);\n",
       "    this.canvas_div = canvas_div\n",
       "    this._canvas_extra_style(canvas_div)\n",
       "    this.root.append(canvas_div);\n",
       "\n",
       "    var canvas = $('<canvas/>');\n",
       "    canvas.addClass('mpl-canvas');\n",
       "    canvas.attr('style', \"left: 0; top: 0; z-index: 0; outline: 0\")\n",
       "\n",
       "    this.canvas = canvas[0];\n",
       "    this.context = canvas[0].getContext(\"2d\");\n",
       "\n",
       "    var rubberband = $('<canvas/>');\n",
       "    rubberband.attr('style', \"position: absolute; left: 0; top: 0; z-index: 1;\")\n",
       "\n",
       "    var pass_mouse_events = true;\n",
       "\n",
       "    canvas_div.resizable({\n",
       "        start: function(event, ui) {\n",
       "            pass_mouse_events = false;\n",
       "        },\n",
       "        resize: function(event, ui) {\n",
       "            fig.request_resize(ui.size.width, ui.size.height);\n",
       "        },\n",
       "        stop: function(event, ui) {\n",
       "            pass_mouse_events = true;\n",
       "            fig.request_resize(ui.size.width, ui.size.height);\n",
       "        },\n",
       "    });\n",
       "\n",
       "    function mouse_event_fn(event) {\n",
       "        if (pass_mouse_events)\n",
       "            return fig.mouse_event(event, event['data']);\n",
       "    }\n",
       "\n",
       "    rubberband.mousedown('button_press', mouse_event_fn);\n",
       "    rubberband.mouseup('button_release', mouse_event_fn);\n",
       "    // Throttle sequential mouse events to 1 every 20ms.\n",
       "    rubberband.mousemove('motion_notify', mouse_event_fn);\n",
       "\n",
       "    rubberband.mouseenter('figure_enter', mouse_event_fn);\n",
       "    rubberband.mouseleave('figure_leave', mouse_event_fn);\n",
       "\n",
       "    canvas_div.on(\"wheel\", function (event) {\n",
       "        event = event.originalEvent;\n",
       "        event['data'] = 'scroll'\n",
       "        if (event.deltaY < 0) {\n",
       "            event.step = 1;\n",
       "        } else {\n",
       "            event.step = -1;\n",
       "        }\n",
       "        mouse_event_fn(event);\n",
       "    });\n",
       "\n",
       "    canvas_div.append(canvas);\n",
       "    canvas_div.append(rubberband);\n",
       "\n",
       "    this.rubberband = rubberband;\n",
       "    this.rubberband_canvas = rubberband[0];\n",
       "    this.rubberband_context = rubberband[0].getContext(\"2d\");\n",
       "    this.rubberband_context.strokeStyle = \"#000000\";\n",
       "\n",
       "    this._resize_canvas = function(width, height) {\n",
       "        // Keep the size of the canvas, canvas container, and rubber band\n",
       "        // canvas in synch.\n",
       "        canvas_div.css('width', width)\n",
       "        canvas_div.css('height', height)\n",
       "\n",
       "        canvas.attr('width', width);\n",
       "        canvas.attr('height', height);\n",
       "\n",
       "        rubberband.attr('width', width);\n",
       "        rubberband.attr('height', height);\n",
       "    }\n",
       "\n",
       "    // Set the figure to an initial 600x600px, this will subsequently be updated\n",
       "    // upon first draw.\n",
       "    this._resize_canvas(600, 600);\n",
       "\n",
       "    // Disable right mouse context menu.\n",
       "    $(this.rubberband_canvas).bind(\"contextmenu\",function(e){\n",
       "        return false;\n",
       "    });\n",
       "\n",
       "    function set_focus () {\n",
       "        canvas.focus();\n",
       "        canvas_div.focus();\n",
       "    }\n",
       "\n",
       "    window.setTimeout(set_focus, 100);\n",
       "}\n",
       "\n",
       "mpl.figure.prototype._init_toolbar = function() {\n",
       "    var fig = this;\n",
       "\n",
       "    var nav_element = $('<div/>')\n",
       "    nav_element.attr('style', 'width: 100%');\n",
       "    this.root.append(nav_element);\n",
       "\n",
       "    // Define a callback function for later on.\n",
       "    function toolbar_event(event) {\n",
       "        return fig.toolbar_button_onclick(event['data']);\n",
       "    }\n",
       "    function toolbar_mouse_event(event) {\n",
       "        return fig.toolbar_button_onmouseover(event['data']);\n",
       "    }\n",
       "\n",
       "    for(var toolbar_ind in mpl.toolbar_items) {\n",
       "        var name = mpl.toolbar_items[toolbar_ind][0];\n",
       "        var tooltip = mpl.toolbar_items[toolbar_ind][1];\n",
       "        var image = mpl.toolbar_items[toolbar_ind][2];\n",
       "        var method_name = mpl.toolbar_items[toolbar_ind][3];\n",
       "\n",
       "        if (!name) {\n",
       "            // put a spacer in here.\n",
       "            continue;\n",
       "        }\n",
       "        var button = $('<button/>');\n",
       "        button.addClass('ui-button ui-widget ui-state-default ui-corner-all ' +\n",
       "                        'ui-button-icon-only');\n",
       "        button.attr('role', 'button');\n",
       "        button.attr('aria-disabled', 'false');\n",
       "        button.click(method_name, toolbar_event);\n",
       "        button.mouseover(tooltip, toolbar_mouse_event);\n",
       "\n",
       "        var icon_img = $('<span/>');\n",
       "        icon_img.addClass('ui-button-icon-primary ui-icon');\n",
       "        icon_img.addClass(image);\n",
       "        icon_img.addClass('ui-corner-all');\n",
       "\n",
       "        var tooltip_span = $('<span/>');\n",
       "        tooltip_span.addClass('ui-button-text');\n",
       "        tooltip_span.html(tooltip);\n",
       "\n",
       "        button.append(icon_img);\n",
       "        button.append(tooltip_span);\n",
       "\n",
       "        nav_element.append(button);\n",
       "    }\n",
       "\n",
       "    var fmt_picker_span = $('<span/>');\n",
       "\n",
       "    var fmt_picker = $('<select/>');\n",
       "    fmt_picker.addClass('mpl-toolbar-option ui-widget ui-widget-content');\n",
       "    fmt_picker_span.append(fmt_picker);\n",
       "    nav_element.append(fmt_picker_span);\n",
       "    this.format_dropdown = fmt_picker[0];\n",
       "\n",
       "    for (var ind in mpl.extensions) {\n",
       "        var fmt = mpl.extensions[ind];\n",
       "        var option = $(\n",
       "            '<option/>', {selected: fmt === mpl.default_extension}).html(fmt);\n",
       "        fmt_picker.append(option)\n",
       "    }\n",
       "\n",
       "    // Add hover states to the ui-buttons\n",
       "    $( \".ui-button\" ).hover(\n",
       "        function() { $(this).addClass(\"ui-state-hover\");},\n",
       "        function() { $(this).removeClass(\"ui-state-hover\");}\n",
       "    );\n",
       "\n",
       "    var status_bar = $('<span class=\"mpl-message\"/>');\n",
       "    nav_element.append(status_bar);\n",
       "    this.message = status_bar[0];\n",
       "}\n",
       "\n",
       "mpl.figure.prototype.request_resize = function(x_pixels, y_pixels) {\n",
       "    // Request matplotlib to resize the figure. Matplotlib will then trigger a resize in the client,\n",
       "    // which will in turn request a refresh of the image.\n",
       "    this.send_message('resize', {'width': x_pixels, 'height': y_pixels});\n",
       "}\n",
       "\n",
       "mpl.figure.prototype.send_message = function(type, properties) {\n",
       "    properties['type'] = type;\n",
       "    properties['figure_id'] = this.id;\n",
       "    this.ws.send(JSON.stringify(properties));\n",
       "}\n",
       "\n",
       "mpl.figure.prototype.send_draw_message = function() {\n",
       "    if (!this.waiting) {\n",
       "        this.waiting = true;\n",
       "        this.ws.send(JSON.stringify({type: \"draw\", figure_id: this.id}));\n",
       "    }\n",
       "}\n",
       "\n",
       "\n",
       "mpl.figure.prototype.handle_save = function(fig, msg) {\n",
       "    var format_dropdown = fig.format_dropdown;\n",
       "    var format = format_dropdown.options[format_dropdown.selectedIndex].value;\n",
       "    fig.ondownload(fig, format);\n",
       "}\n",
       "\n",
       "\n",
       "mpl.figure.prototype.handle_resize = function(fig, msg) {\n",
       "    var size = msg['size'];\n",
       "    if (size[0] != fig.canvas.width || size[1] != fig.canvas.height) {\n",
       "        fig._resize_canvas(size[0], size[1]);\n",
       "        fig.send_message(\"refresh\", {});\n",
       "    };\n",
       "}\n",
       "\n",
       "mpl.figure.prototype.handle_rubberband = function(fig, msg) {\n",
       "    var x0 = msg['x0'];\n",
       "    var y0 = fig.canvas.height - msg['y0'];\n",
       "    var x1 = msg['x1'];\n",
       "    var y1 = fig.canvas.height - msg['y1'];\n",
       "    x0 = Math.floor(x0) + 0.5;\n",
       "    y0 = Math.floor(y0) + 0.5;\n",
       "    x1 = Math.floor(x1) + 0.5;\n",
       "    y1 = Math.floor(y1) + 0.5;\n",
       "    var min_x = Math.min(x0, x1);\n",
       "    var min_y = Math.min(y0, y1);\n",
       "    var width = Math.abs(x1 - x0);\n",
       "    var height = Math.abs(y1 - y0);\n",
       "\n",
       "    fig.rubberband_context.clearRect(\n",
       "        0, 0, fig.canvas.width, fig.canvas.height);\n",
       "\n",
       "    fig.rubberband_context.strokeRect(min_x, min_y, width, height);\n",
       "}\n",
       "\n",
       "mpl.figure.prototype.handle_figure_label = function(fig, msg) {\n",
       "    // Updates the figure title.\n",
       "    fig.header.textContent = msg['label'];\n",
       "}\n",
       "\n",
       "mpl.figure.prototype.handle_cursor = function(fig, msg) {\n",
       "    var cursor = msg['cursor'];\n",
       "    switch(cursor)\n",
       "    {\n",
       "    case 0:\n",
       "        cursor = 'pointer';\n",
       "        break;\n",
       "    case 1:\n",
       "        cursor = 'default';\n",
       "        break;\n",
       "    case 2:\n",
       "        cursor = 'crosshair';\n",
       "        break;\n",
       "    case 3:\n",
       "        cursor = 'move';\n",
       "        break;\n",
       "    }\n",
       "    fig.rubberband_canvas.style.cursor = cursor;\n",
       "}\n",
       "\n",
       "mpl.figure.prototype.handle_message = function(fig, msg) {\n",
       "    fig.message.textContent = msg['message'];\n",
       "}\n",
       "\n",
       "mpl.figure.prototype.handle_draw = function(fig, msg) {\n",
       "    // Request the server to send over a new figure.\n",
       "    fig.send_draw_message();\n",
       "}\n",
       "\n",
       "mpl.figure.prototype.handle_image_mode = function(fig, msg) {\n",
       "    fig.image_mode = msg['mode'];\n",
       "}\n",
       "\n",
       "mpl.figure.prototype.updated_canvas_event = function() {\n",
       "    // Called whenever the canvas gets updated.\n",
       "    this.send_message(\"ack\", {});\n",
       "}\n",
       "\n",
       "// A function to construct a web socket function for onmessage handling.\n",
       "// Called in the figure constructor.\n",
       "mpl.figure.prototype._make_on_message_function = function(fig) {\n",
       "    return function socket_on_message(evt) {\n",
       "        if (evt.data instanceof Blob) {\n",
       "            /* FIXME: We get \"Resource interpreted as Image but\n",
       "             * transferred with MIME type text/plain:\" errors on\n",
       "             * Chrome.  But how to set the MIME type?  It doesn't seem\n",
       "             * to be part of the websocket stream */\n",
       "            evt.data.type = \"image/png\";\n",
       "\n",
       "            /* Free the memory for the previous frames */\n",
       "            if (fig.imageObj.src) {\n",
       "                (window.URL || window.webkitURL).revokeObjectURL(\n",
       "                    fig.imageObj.src);\n",
       "            }\n",
       "\n",
       "            fig.imageObj.src = (window.URL || window.webkitURL).createObjectURL(\n",
       "                evt.data);\n",
       "            fig.updated_canvas_event();\n",
       "            fig.waiting = false;\n",
       "            return;\n",
       "        }\n",
       "        else if (typeof evt.data === 'string' && evt.data.slice(0, 21) == \"data:image/png;base64\") {\n",
       "            fig.imageObj.src = evt.data;\n",
       "            fig.updated_canvas_event();\n",
       "            fig.waiting = false;\n",
       "            return;\n",
       "        }\n",
       "\n",
       "        var msg = JSON.parse(evt.data);\n",
       "        var msg_type = msg['type'];\n",
       "\n",
       "        // Call the  \"handle_{type}\" callback, which takes\n",
       "        // the figure and JSON message as its only arguments.\n",
       "        try {\n",
       "            var callback = fig[\"handle_\" + msg_type];\n",
       "        } catch (e) {\n",
       "            console.log(\"No handler for the '\" + msg_type + \"' message type: \", msg);\n",
       "            return;\n",
       "        }\n",
       "\n",
       "        if (callback) {\n",
       "            try {\n",
       "                // console.log(\"Handling '\" + msg_type + \"' message: \", msg);\n",
       "                callback(fig, msg);\n",
       "            } catch (e) {\n",
       "                console.log(\"Exception inside the 'handler_\" + msg_type + \"' callback:\", e, e.stack, msg);\n",
       "            }\n",
       "        }\n",
       "    };\n",
       "}\n",
       "\n",
       "// from http://stackoverflow.com/questions/1114465/getting-mouse-location-in-canvas\n",
       "mpl.findpos = function(e) {\n",
       "    //this section is from http://www.quirksmode.org/js/events_properties.html\n",
       "    var targ;\n",
       "    if (!e)\n",
       "        e = window.event;\n",
       "    if (e.target)\n",
       "        targ = e.target;\n",
       "    else if (e.srcElement)\n",
       "        targ = e.srcElement;\n",
       "    if (targ.nodeType == 3) // defeat Safari bug\n",
       "        targ = targ.parentNode;\n",
       "\n",
       "    // jQuery normalizes the pageX and pageY\n",
       "    // pageX,Y are the mouse positions relative to the document\n",
       "    // offset() returns the position of the element relative to the document\n",
       "    var x = e.pageX - $(targ).offset().left;\n",
       "    var y = e.pageY - $(targ).offset().top;\n",
       "\n",
       "    return {\"x\": x, \"y\": y};\n",
       "};\n",
       "\n",
       "/*\n",
       " * return a copy of an object with only non-object keys\n",
       " * we need this to avoid circular references\n",
       " * http://stackoverflow.com/a/24161582/3208463\n",
       " */\n",
       "function simpleKeys (original) {\n",
       "  return Object.keys(original).reduce(function (obj, key) {\n",
       "    if (typeof original[key] !== 'object')\n",
       "        obj[key] = original[key]\n",
       "    return obj;\n",
       "  }, {});\n",
       "}\n",
       "\n",
       "mpl.figure.prototype.mouse_event = function(event, name) {\n",
       "    var canvas_pos = mpl.findpos(event)\n",
       "\n",
       "    if (name === 'button_press')\n",
       "    {\n",
       "        this.canvas.focus();\n",
       "        this.canvas_div.focus();\n",
       "    }\n",
       "\n",
       "    var x = canvas_pos.x;\n",
       "    var y = canvas_pos.y;\n",
       "\n",
       "    this.send_message(name, {x: x, y: y, button: event.button,\n",
       "                             step: event.step,\n",
       "                             guiEvent: simpleKeys(event)});\n",
       "\n",
       "    /* This prevents the web browser from automatically changing to\n",
       "     * the text insertion cursor when the button is pressed.  We want\n",
       "     * to control all of the cursor setting manually through the\n",
       "     * 'cursor' event from matplotlib */\n",
       "    event.preventDefault();\n",
       "    return false;\n",
       "}\n",
       "\n",
       "mpl.figure.prototype._key_event_extra = function(event, name) {\n",
       "    // Handle any extra behaviour associated with a key event\n",
       "}\n",
       "\n",
       "mpl.figure.prototype.key_event = function(event, name) {\n",
       "\n",
       "    // Prevent repeat events\n",
       "    if (name == 'key_press')\n",
       "    {\n",
       "        if (event.which === this._key)\n",
       "            return;\n",
       "        else\n",
       "            this._key = event.which;\n",
       "    }\n",
       "    if (name == 'key_release')\n",
       "        this._key = null;\n",
       "\n",
       "    var value = '';\n",
       "    if (event.ctrlKey && event.which != 17)\n",
       "        value += \"ctrl+\";\n",
       "    if (event.altKey && event.which != 18)\n",
       "        value += \"alt+\";\n",
       "    if (event.shiftKey && event.which != 16)\n",
       "        value += \"shift+\";\n",
       "\n",
       "    value += 'k';\n",
       "    value += event.which.toString();\n",
       "\n",
       "    this._key_event_extra(event, name);\n",
       "\n",
       "    this.send_message(name, {key: value,\n",
       "                             guiEvent: simpleKeys(event)});\n",
       "    return false;\n",
       "}\n",
       "\n",
       "mpl.figure.prototype.toolbar_button_onclick = function(name) {\n",
       "    if (name == 'download') {\n",
       "        this.handle_save(this, null);\n",
       "    } else {\n",
       "        this.send_message(\"toolbar_button\", {name: name});\n",
       "    }\n",
       "};\n",
       "\n",
       "mpl.figure.prototype.toolbar_button_onmouseover = function(tooltip) {\n",
       "    this.message.textContent = tooltip;\n",
       "};\n",
       "mpl.toolbar_items = [[\"Home\", \"Reset original view\", \"fa fa-home icon-home\", \"home\"], [\"Back\", \"Back to  previous view\", \"fa fa-arrow-left icon-arrow-left\", \"back\"], [\"Forward\", \"Forward to next view\", \"fa fa-arrow-right icon-arrow-right\", \"forward\"], [\"\", \"\", \"\", \"\"], [\"Pan\", \"Pan axes with left mouse, zoom with right\", \"fa fa-arrows icon-move\", \"pan\"], [\"Zoom\", \"Zoom to rectangle\", \"fa fa-square-o icon-check-empty\", \"zoom\"], [\"\", \"\", \"\", \"\"], [\"Download\", \"Download plot\", \"fa fa-floppy-o icon-save\", \"download\"]];\n",
       "\n",
       "mpl.extensions = [\"eps\", \"jpeg\", \"pdf\", \"png\", \"ps\", \"raw\", \"svg\", \"tif\"];\n",
       "\n",
       "mpl.default_extension = \"png\";var comm_websocket_adapter = function(comm) {\n",
       "    // Create a \"websocket\"-like object which calls the given IPython comm\n",
       "    // object with the appropriate methods. Currently this is a non binary\n",
       "    // socket, so there is still some room for performance tuning.\n",
       "    var ws = {};\n",
       "\n",
       "    ws.close = function() {\n",
       "        comm.close()\n",
       "    };\n",
       "    ws.send = function(m) {\n",
       "        //console.log('sending', m);\n",
       "        comm.send(m);\n",
       "    };\n",
       "    // Register the callback with on_msg.\n",
       "    comm.on_msg(function(msg) {\n",
       "        //console.log('receiving', msg['content']['data'], msg);\n",
       "        // Pass the mpl event to the overriden (by mpl) onmessage function.\n",
       "        ws.onmessage(msg['content']['data'])\n",
       "    });\n",
       "    return ws;\n",
       "}\n",
       "\n",
       "mpl.mpl_figure_comm = function(comm, msg) {\n",
       "    // This is the function which gets called when the mpl process\n",
       "    // starts-up an IPython Comm through the \"matplotlib\" channel.\n",
       "\n",
       "    var id = msg.content.data.id;\n",
       "    // Get hold of the div created by the display call when the Comm\n",
       "    // socket was opened in Python.\n",
       "    var element = $(\"#\" + id);\n",
       "    var ws_proxy = comm_websocket_adapter(comm)\n",
       "\n",
       "    function ondownload(figure, format) {\n",
       "        window.open(figure.imageObj.src);\n",
       "    }\n",
       "\n",
       "    var fig = new mpl.figure(id, ws_proxy,\n",
       "                           ondownload,\n",
       "                           element.get(0));\n",
       "\n",
       "    // Call onopen now - mpl needs it, as it is assuming we've passed it a real\n",
       "    // web socket which is closed, not our websocket->open comm proxy.\n",
       "    ws_proxy.onopen();\n",
       "\n",
       "    fig.parent_element = element.get(0);\n",
       "    fig.cell_info = mpl.find_output_cell(\"<div id='\" + id + \"'></div>\");\n",
       "    if (!fig.cell_info) {\n",
       "        console.error(\"Failed to find cell for figure\", id, fig);\n",
       "        return;\n",
       "    }\n",
       "\n",
       "    var output_index = fig.cell_info[2]\n",
       "    var cell = fig.cell_info[0];\n",
       "\n",
       "};\n",
       "\n",
       "mpl.figure.prototype.handle_close = function(fig, msg) {\n",
       "    fig.root.unbind('remove')\n",
       "\n",
       "    // Update the output cell to use the data from the current canvas.\n",
       "    fig.push_to_output();\n",
       "    var dataURL = fig.canvas.toDataURL();\n",
       "    // Re-enable the keyboard manager in IPython - without this line, in FF,\n",
       "    // the notebook keyboard shortcuts fail.\n",
       "    IPython.keyboard_manager.enable()\n",
       "    $(fig.parent_element).html('<img src=\"' + dataURL + '\">');\n",
       "    fig.close_ws(fig, msg);\n",
       "}\n",
       "\n",
       "mpl.figure.prototype.close_ws = function(fig, msg){\n",
       "    fig.send_message('closing', msg);\n",
       "    // fig.ws.close()\n",
       "}\n",
       "\n",
       "mpl.figure.prototype.push_to_output = function(remove_interactive) {\n",
       "    // Turn the data on the canvas into data in the output cell.\n",
       "    var dataURL = this.canvas.toDataURL();\n",
       "    this.cell_info[1]['text/html'] = '<img src=\"' + dataURL + '\">';\n",
       "}\n",
       "\n",
       "mpl.figure.prototype.updated_canvas_event = function() {\n",
       "    // Tell IPython that the notebook contents must change.\n",
       "    IPython.notebook.set_dirty(true);\n",
       "    this.send_message(\"ack\", {});\n",
       "    var fig = this;\n",
       "    // Wait a second, then push the new image to the DOM so\n",
       "    // that it is saved nicely (might be nice to debounce this).\n",
       "    setTimeout(function () { fig.push_to_output() }, 1000);\n",
       "}\n",
       "\n",
       "mpl.figure.prototype._init_toolbar = function() {\n",
       "    var fig = this;\n",
       "\n",
       "    var nav_element = $('<div/>')\n",
       "    nav_element.attr('style', 'width: 100%');\n",
       "    this.root.append(nav_element);\n",
       "\n",
       "    // Define a callback function for later on.\n",
       "    function toolbar_event(event) {\n",
       "        return fig.toolbar_button_onclick(event['data']);\n",
       "    }\n",
       "    function toolbar_mouse_event(event) {\n",
       "        return fig.toolbar_button_onmouseover(event['data']);\n",
       "    }\n",
       "\n",
       "    for(var toolbar_ind in mpl.toolbar_items){\n",
       "        var name = mpl.toolbar_items[toolbar_ind][0];\n",
       "        var tooltip = mpl.toolbar_items[toolbar_ind][1];\n",
       "        var image = mpl.toolbar_items[toolbar_ind][2];\n",
       "        var method_name = mpl.toolbar_items[toolbar_ind][3];\n",
       "\n",
       "        if (!name) { continue; };\n",
       "\n",
       "        var button = $('<button class=\"btn btn-default\" href=\"#\" title=\"' + name + '\"><i class=\"fa ' + image + ' fa-lg\"></i></button>');\n",
       "        button.click(method_name, toolbar_event);\n",
       "        button.mouseover(tooltip, toolbar_mouse_event);\n",
       "        nav_element.append(button);\n",
       "    }\n",
       "\n",
       "    // Add the status bar.\n",
       "    var status_bar = $('<span class=\"mpl-message\" style=\"text-align:right; float: right;\"/>');\n",
       "    nav_element.append(status_bar);\n",
       "    this.message = status_bar[0];\n",
       "\n",
       "    // Add the close button to the window.\n",
       "    var buttongrp = $('<div class=\"btn-group inline pull-right\"></div>');\n",
       "    var button = $('<button class=\"btn btn-mini btn-primary\" href=\"#\" title=\"Stop Interaction\"><i class=\"fa fa-power-off icon-remove icon-large\"></i></button>');\n",
       "    button.click(function (evt) { fig.handle_close(fig, {}); } );\n",
       "    button.mouseover('Stop Interaction', toolbar_mouse_event);\n",
       "    buttongrp.append(button);\n",
       "    var titlebar = this.root.find($('.ui-dialog-titlebar'));\n",
       "    titlebar.prepend(buttongrp);\n",
       "}\n",
       "\n",
       "mpl.figure.prototype._root_extra_style = function(el){\n",
       "    var fig = this\n",
       "    el.on(\"remove\", function(){\n",
       "\tfig.close_ws(fig, {});\n",
       "    });\n",
       "}\n",
       "\n",
       "mpl.figure.prototype._canvas_extra_style = function(el){\n",
       "    // this is important to make the div 'focusable\n",
       "    el.attr('tabindex', 0)\n",
       "    // reach out to IPython and tell the keyboard manager to turn it's self\n",
       "    // off when our div gets focus\n",
       "\n",
       "    // location in version 3\n",
       "    if (IPython.notebook.keyboard_manager) {\n",
       "        IPython.notebook.keyboard_manager.register_events(el);\n",
       "    }\n",
       "    else {\n",
       "        // location in version 2\n",
       "        IPython.keyboard_manager.register_events(el);\n",
       "    }\n",
       "\n",
       "}\n",
       "\n",
       "mpl.figure.prototype._key_event_extra = function(event, name) {\n",
       "    var manager = IPython.notebook.keyboard_manager;\n",
       "    if (!manager)\n",
       "        manager = IPython.keyboard_manager;\n",
       "\n",
       "    // Check for shift+enter\n",
       "    if (event.shiftKey && event.which == 13) {\n",
       "        this.canvas_div.blur();\n",
       "        event.shiftKey = false;\n",
       "        // Send a \"J\" for go to next cell\n",
       "        event.which = 74;\n",
       "        event.keyCode = 74;\n",
       "        manager.command_mode();\n",
       "        manager.handle_keydown(event);\n",
       "    }\n",
       "}\n",
       "\n",
       "mpl.figure.prototype.handle_save = function(fig, msg) {\n",
       "    fig.ondownload(fig, null);\n",
       "}\n",
       "\n",
       "\n",
       "mpl.find_output_cell = function(html_output) {\n",
       "    // Return the cell and output element which can be found *uniquely* in the notebook.\n",
       "    // Note - this is a bit hacky, but it is done because the \"notebook_saving.Notebook\"\n",
       "    // IPython event is triggered only after the cells have been serialised, which for\n",
       "    // our purposes (turning an active figure into a static one), is too late.\n",
       "    var cells = IPython.notebook.get_cells();\n",
       "    var ncells = cells.length;\n",
       "    for (var i=0; i<ncells; i++) {\n",
       "        var cell = cells[i];\n",
       "        if (cell.cell_type === 'code'){\n",
       "            for (var j=0; j<cell.output_area.outputs.length; j++) {\n",
       "                var data = cell.output_area.outputs[j];\n",
       "                if (data.data) {\n",
       "                    // IPython >= 3 moved mimebundle to data attribute of output\n",
       "                    data = data.data;\n",
       "                }\n",
       "                if (data['text/html'] == html_output) {\n",
       "                    return [cell, data, j];\n",
       "                }\n",
       "            }\n",
       "        }\n",
       "    }\n",
       "}\n",
       "\n",
       "// Register the function which deals with the matplotlib target/channel.\n",
       "// The kernel may be null if the page has been refreshed.\n",
       "if (IPython.notebook.kernel != null) {\n",
       "    IPython.notebook.kernel.comm_manager.register_target('matplotlib', mpl.mpl_figure_comm);\n",
       "}\n"
      ],
      "text/plain": [
       "<IPython.core.display.Javascript object>"
      ]
     },
     "metadata": {},
     "output_type": "display_data"
    },
    {
     "data": {
      "text/html": [
       "<img src=\"data:image/png;base64,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\">"
      ],
      "text/plain": [
       "<IPython.core.display.HTML object>"
      ]
     },
     "metadata": {},
     "output_type": "display_data"
    },
    {
     "data": {
      "text/plain": [
       "<matplotlib.legend.Legend at 0x7f7c1fd2b6d0>"
      ]
     },
     "execution_count": 103,
     "metadata": {},
     "output_type": "execute_result"
    }
   ],
   "source": [
    "figure()\n",
    "title(\"Titre de la figure\")\n",
    "\n",
    "plot(x,sin(x),'b-',label='sin(x)',linewidth=1)\n",
    "plot(x,cos(x),'ro-',label='cos(x)',linewidth=3)\n",
    "\n",
    "ylabel(\"Concentration $c(x,t)$\")\n",
    "xlabel(\"Abscisse $x$ des noeuds\")\n",
    "\n",
    "grid()\n",
    "legend()"
   ]
  },
  {
   "cell_type": "markdown",
   "metadata": {
    "collapsed": true
   },
   "source": [
    "**Un exemple d'utilisation des widgets**"
   ]
  },
  {
   "cell_type": "code",
   "execution_count": 1,
   "metadata": {},
   "outputs": [],
   "source": [
    "import ipywidgets as widgets\n",
    "from IPython.display import display\n",
    "from pylab import * \n",
    "\n",
    "%matplotlib nbagg"
   ]
  },
  {
   "cell_type": "code",
   "execution_count": 2,
   "metadata": {},
   "outputs": [
    {
     "data": {
      "application/vnd.jupyter.widget-view+json": {
       "model_id": "9e66e1d94a774147942725ea3f9b3782",
       "version_major": 2,
       "version_minor": 0
      },
      "text/plain": [
       "aW50ZXJhY3RpdmUoY2hpbGRyZW49KEZsb2F0U2xpZGVyKHZhbHVlPTEuMCwgZGVzY3JpcHRpb249dSdBbXA6JywgbWF4PTEwLjAsIG1pbj0xLjApLCBGbG9hdFNsaWRlcih2YWx1ZT0wLjAsIGTigKY=\n"
      ]
     },
     "metadata": {},
     "output_type": "display_data"
    },
    {
     "data": {
      "image/png": "[encoded data removed]",
      "text/plain": [
       "<Figure size 720x288 with 1 Axes>"
      ]
     },
     "metadata": {},
     "output_type": "display_data"
    }
   ],
   "source": [
    "x = linspace(0, 2, 1000)\n",
    "fig, ax = subplots(1, figsize=(10, 4))\n",
    "suptitle('Onde sinusoidale')\n",
    "\n",
    "\n",
    "def update_plot(amp, phase, freq):\n",
    "    \n",
    "    ax.clear()\n",
    "    y = amp * np.sin(freq * 2 * np.pi * x + phase * 2 * np.pi)\n",
    "    units = 'amp = {} $(psi)$ \\nphase = {} $(s)$ \\nfreq = {} $(Hz)$'\n",
    "    \n",
    "    ax.plot(x, y, label=units.format(amp, phase, freq))\n",
    "    ax.set_xlim(x[0], x[-1])\n",
    "    ax.legend(loc=\"upper right\")\n",
    "    ax.set_xlabel('$(s)$')\n",
    "    show()\n",
    "\n",
    "\n",
    "amp = widgets.FloatSlider(min=1, max=10, value=1, description='Amp:')\n",
    "phase = widgets.FloatSlider(min=0, max=5, value=0, description='Phase:')\n",
    "freq = widgets.FloatSlider(min=1, max=10, value=1, description='Freq:')\n",
    "    \n",
    "widgets.interactive(update_plot, amp=amp, phase=phase, freq=freq)"
   ]
  },
  {
   "cell_type": "code",
   "execution_count": null,
   "metadata": {
    "collapsed": true
   },
   "outputs": [],
   "source": []
  }
 ],
 "metadata": {
  "kernelspec": {
   "display_name": "Python 2",
   "language": "python",
   "name": "python2"
  },
  "language_info": {
   "codemirror_mode": {
    "name": "ipython",
    "version": 2
   },
   "file_extension": ".py",
   "mimetype": "text/x-python",
   "name": "python",
   "nbconvert_exporter": "python",
   "pygments_lexer": "ipython2",
   "version": "2.7.14"
  },
  "latex_envs": {
   "LaTeX_envs_menu_present": true,
   "autoclose": false,
   "autocomplete": true,
   "bibliofile": "biblio.bib",
   "cite_by": "apalike",
   "current_citInitial": 1,
   "eqLabelWithNumbers": true,
   "eqNumInitial": 1,
   "hotkeys": {
    "equation": "Ctrl-E",
    "itemize": "Ctrl-I"
   },
   "labels_anchors": false,
   "latex_user_defs": false,
   "report_style_numbering": false,
   "user_envs_cfg": false
  },
  "name": "td1a_cenonce_session1.ipynb",
  "nbTranslate": {
   "displayLangs": [
    "*"
   ],
   "hotkey": "alt-t",
   "langInMainMenu": true,
   "sourceLang": "en",
   "targetLang": "fr",
   "useGoogleTranslate": true
  },
  "toc": {
   "base_numbering": 1,
   "nav_menu": {},
   "number_sections": true,
   "sideBar": true,
   "skip_h1_title": false,
   "title_cell": "Table of Contents",
   "title_sidebar": "Contents",
   "toc_cell": false,
   "toc_position": {},
   "toc_section_display": true,
   "toc_window_display": false
  },
  "varInspector": {
   "cols": {
    "lenName": 16,
    "lenType": 16,
    "lenVar": 40
   },
   "kernels_config": {
    "python": {
     "delete_cmd_postfix": "",
     "delete_cmd_prefix": "del ",
     "library": "var_list.py",
     "varRefreshCmd": "print(var_dic_list())"
    },
    "r": {
     "delete_cmd_postfix": ") ",
     "delete_cmd_prefix": "rm(",
     "library": "var_list.r",
     "varRefreshCmd": "cat(var_dic_list()) "
    }
   },
   "types_to_exclude": [
    "module",
    "function",
    "builtin_function_or_method",
    "instance",
    "_Feature"
   ],
   "window_display": false
  }
 },
 "nbformat": 4,
 "nbformat_minor": 1
}
