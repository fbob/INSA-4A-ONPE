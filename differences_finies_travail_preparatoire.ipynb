{
 "cells": [
  {
   "cell_type": "code",
   "execution_count": null,
   "metadata": {},
   "outputs": [],
   "source": [
    "%pylab nbagg"
   ]
  },
  {
   "cell_type": "markdown",
   "metadata": {},
   "source": [
    "# Utilisation des différences finies pour approximer les dérivés\n",
    "\n",
    "Le contenu de ce notebook est un travail préparatoire aux TP de mécanique des fluides numériques II.\n",
    "\n",
    "Supposons que l'on vous donne une table de valeurs d'une fonction \"secrète\" $ f (x) $, mais vous ne recevez pas la fonction elle-même. Par exemple:"
   ]
  },
  {
   "cell_type": "code",
   "execution_count": null,
   "metadata": {},
   "outputs": [],
   "source": [
    "x_values = (0,1,2,3,4)\n",
    "y_values = (0,1,8,27,64)"
   ]
  },
  {
   "cell_type": "markdown",
   "metadata": {},
   "source": [
    "Afin de comprendre la fonction qui a généré ces valeurs, nous pourrions les tracer sur une figure en les reliant par des segments de droites avec des symboles pleins ronds avec en fond une grille des axes.\n",
    "\n",
    "Ecrire une commande python qui trace cette figure.\n"
   ]
  },
  {
   "cell_type": "code",
   "execution_count": null,
   "metadata": {},
   "outputs": [],
   "source": [
    "figure(1)\n",
    "?"
   ]
  },
  {
   "cell_type": "markdown",
   "metadata": {},
   "source": [
    "Dans la figure, les points ont été reliés par une ligne, et vous pourriez utiliser la pente de cette ligne si vous vouliez estimer la dérivée de la fonction. \n",
    "\n",
    "Par exemple, pour estimer la pente à $ x = 2 $, vous pouvez utiliser la pente de la ligne entre $ x = 2 $ et $ x = 3 $ ou entre $ x = 1 $ et $ x = 2 $.\n",
    "\n",
    "Quels opérateurs de différences finies pouvez vous utiliser pour estimer la dérivée de $f$ en $x=2$  à l'ordre 1 ?\n",
    "\n",
    "Proposer un autre opérateur de différences finies plus précis en utilisant les noeux voisins de $x=2$. Comment s'apelle cet opérateur ?\n",
    "\n",
    "* Ecriver les formules utilisées\n",
    "* Programmer ces formules pour obtenir les approximations souhaitées\n",
    "* Conclure"
   ]
  },
  {
   "cell_type": "markdown",
   "metadata": {},
   "source": [
    "**Exemple:** "
   ]
  },
  {
   "cell_type": "markdown",
   "metadata": {},
   "source": [
    "$$\\left. f'(x) \\right|_{x=2} = \\frac{f(x_{?})-f(x_{?})}{x_{?}-x_{?}} +O(\\Delta x)$$"
   ]
  },
  {
   "cell_type": "code",
   "execution_count": null,
   "metadata": {},
   "outputs": [],
   "source": [
    "# Caclul de f'(x) en x= 2\n",
    "diff_avant =  ?\n",
    "diff_arriere = ?\n",
    "diff_centree = ?\n",
    "\n",
    "print('Difference avant',diff_avant)\n",
    "print('Difference arriere',diff_arriere)\n",
    "print('Difference centree',diff_centree)"
   ]
  },
  {
   "cell_type": "markdown",
   "metadata": {},
   "source": [
    "Tracer sur un même graphique, la courbe $f(x)$ ainsi que les pentes correspondant aux dérivées calculées précédement:\n",
    "* différence avant en vert\n",
    "* différence arrière en bleue\n",
    "* différence centrée en rouge\n",
    "\n",
    "Y rajouter la légende correspodnante"
   ]
  },
  {
   "cell_type": "code",
   "execution_count": null,
   "metadata": {},
   "outputs": [],
   "source": [
    "figure(2)\n",
    "?"
   ]
  },
  {
   "cell_type": "markdown",
   "metadata": {},
   "source": [
    "Vous avez peut-être deviné que la fonction \"secrète\" qui a généré ces valeurs est $f(x)= x^3$. Comparons nos trois estimations de la dérivée avec la dérivée vraie et vérifier que la différence finie centrée est bien la meilleure approximation."
   ]
  },
  {
   "cell_type": "markdown",
   "metadata": {},
   "source": [
    "Refaire un graphique en superposant la fonction que vous aurez préalablement définie avec une fonction python, les trois approximations de la dérivée et la dérivée vraie."
   ]
  },
  {
   "cell_type": "markdown",
   "metadata": {},
   "source": [
    "La tangeante à la courbe en $x_0=2$ est donnée par :\n",
    "\n",
    "$$f'(x_0)(x-x_0) + f(x_0)$$"
   ]
  },
  {
   "cell_type": "code",
   "execution_count": null,
   "metadata": {},
   "outputs": [],
   "source": [
    "?"
   ]
  },
  {
   "cell_type": "markdown",
   "metadata": {},
   "source": [
    "Ecrire une petit programme qui permet d'évaluer l'évolution de l'erreur par rapport à la dérivée vraie lorsque que l'on divise par deux le pas d'espace. Vous pourrez par exemple prendre les valeurs suivantes pour $\\Delta x$: 0.1, 0.05, 0.025. \n",
    "\n",
    "Tracer l'évolution de l'erreur en fonction de $\\Delta x$ pour les trois apporximations utilisées."
   ]
  },
  {
   "cell_type": "code",
   "execution_count": null,
   "metadata": {},
   "outputs": [],
   "source": [
    "?"
   ]
  }
 ],
 "metadata": {
  "anaconda-cloud": {},
  "kernelspec": {
   "display_name": "Python 3",
   "language": "python",
   "name": "python3"
  },
  "language_info": {
   "codemirror_mode": {
    "name": "ipython",
    "version": 3
   },
   "file_extension": ".py",
   "mimetype": "text/x-python",
   "name": "python",
   "nbconvert_exporter": "python",
   "pygments_lexer": "ipython3",
   "version": "3.7.6"
  },
  "latex_envs": {
   "LaTeX_envs_menu_present": true,
   "autoclose": false,
   "autocomplete": true,
   "bibliofile": "biblio.bib",
   "cite_by": "apalike",
   "current_citInitial": 1,
   "eqLabelWithNumbers": true,
   "eqNumInitial": 1,
   "hotkeys": {
    "equation": "Ctrl-E",
    "itemize": "Ctrl-I"
   },
   "labels_anchors": false,
   "latex_user_defs": false,
   "report_style_numbering": false,
   "user_envs_cfg": false
  },
  "nbTranslate": {
   "displayLangs": [
    "*"
   ],
   "hotkey": "alt-t",
   "langInMainMenu": true,
   "sourceLang": "en",
   "targetLang": "fr",
   "useGoogleTranslate": true
  },
  "toc": {
   "base_numbering": 1,
   "nav_menu": {},
   "number_sections": true,
   "sideBar": true,
   "skip_h1_title": false,
   "title_cell": "Table of Contents",
   "title_sidebar": "Contents",
   "toc_cell": false,
   "toc_position": {},
   "toc_section_display": true,
   "toc_window_display": false
  },
  "varInspector": {
   "cols": {
    "lenName": 16,
    "lenType": 16,
    "lenVar": 40
   },
   "kernels_config": {
    "python": {
     "delete_cmd_postfix": "",
     "delete_cmd_prefix": "del ",
     "library": "var_list.py",
     "varRefreshCmd": "print(var_dic_list())"
    },
    "r": {
     "delete_cmd_postfix": ") ",
     "delete_cmd_prefix": "rm(",
     "library": "var_list.r",
     "varRefreshCmd": "cat(var_dic_list()) "
    }
   },
   "types_to_exclude": [
    "module",
    "function",
    "builtin_function_or_method",
    "instance",
    "_Feature"
   ],
   "window_display": false
  }
 },
 "nbformat": 4,
 "nbformat_minor": 4
}
